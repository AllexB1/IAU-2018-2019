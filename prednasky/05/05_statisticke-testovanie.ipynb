{
 "cells": [
  {
   "cell_type": "markdown",
   "metadata": {
    "slideshow": {
     "slide_type": "slide"
    }
   },
   "source": [
    "# Štatistické testovanie hypotéz\n",
    "\n",
    "### Róbert Móro, Jakub Ševcech\n",
    "\n",
    "IAU, 18.10.2018"
   ]
  },
  {
   "cell_type": "markdown",
   "metadata": {
    "slideshow": {
     "slide_type": "slide"
    }
   },
   "source": [
    "## Spätnú väzbu nám môžete nechať tu: https://tinyurl.com/iau2018-19"
   ]
  },
  {
   "cell_type": "markdown",
   "metadata": {
    "slideshow": {
     "slide_type": "slide"
    }
   },
   "source": [
    "## Pýtať sa môžete na http://slido.com#iau2018-w05"
   ]
  },
  {
   "cell_type": "markdown",
   "metadata": {
    "slideshow": {
     "slide_type": "slide"
    }
   },
   "source": [
    "## Predtým, ako sa pustíme do štatistiky..."
   ]
  },
  {
   "cell_type": "markdown",
   "metadata": {
    "slideshow": {
     "slide_type": "fragment"
    }
   },
   "source": [
    "### Ako sa dá pracovať vo dvojici (tíme) s Jupyter Notebookom?"
   ]
  },
  {
   "cell_type": "markdown",
   "metadata": {
    "slideshow": {
     "slide_type": "fragment"
    }
   },
   "source": [
    "Jupyter Notebook nie je prispôsobený na prácu viacerých ľudí."
   ]
  },
  {
   "cell_type": "markdown",
   "metadata": {
    "slideshow": {
     "slide_type": "fragment"
    }
   },
   "source": [
    "Existuje Jupyter Hub, ale ten rieši len vzdialený prístup, nie spoluprácu..."
   ]
  },
  {
   "cell_type": "markdown",
   "metadata": {
    "slideshow": {
     "slide_type": "slide"
    }
   },
   "source": [
    "## Možné riešenia\n",
    "\n",
    "Zdieľanie pomocou Githubu (ideálne najprv **Clear all outputs**).\n",
    "\n",
    "Colab: https://colab.research.google.com/notebooks/welcome.ipynb\n",
    "\n",
    "CoCalc: https://cocalc.com/doc/jupyter-notebook.html"
   ]
  },
  {
   "cell_type": "markdown",
   "metadata": {
    "slideshow": {
     "slide_type": "slide"
    }
   },
   "source": [
    "## Sme na kurze o analýze dát - prečo nás zaujíma štatistika?"
   ]
  },
  {
   "cell_type": "markdown",
   "metadata": {
    "slideshow": {
     "slide_type": "fragment"
    }
   },
   "source": [
    "Deskriptívna štatistika = základný nástroj prieskumnej analýzy dát."
   ]
  },
  {
   "cell_type": "markdown",
   "metadata": {
    "slideshow": {
     "slide_type": "fragment"
    }
   },
   "source": [
    "Niekedy nám opis dát nestačí - chceme vedieť, či sú pozorované rozdiely v dátach *významné*."
   ]
  },
  {
   "cell_type": "markdown",
   "metadata": {
    "slideshow": {
     "slide_type": "fragment"
    }
   },
   "source": [
    "Štatistické testovanie hypotéz = základ modernej (na empírii založenej) výskumnej metódy"
   ]
  },
  {
   "cell_type": "markdown",
   "metadata": {
    "slideshow": {
     "slide_type": "slide"
    }
   },
   "source": [
    "## Držte si klobúky, začíname!\n",
    "\n",
    "<img src=\"img/queen-with-hat.jpg\" alt=\"Držte si klobúky!\" style=\"width: 800px; margin-left: auto; margin-right: auto;\"/>"
   ]
  },
  {
   "cell_type": "markdown",
   "metadata": {
    "slideshow": {
     "slide_type": "slide"
    }
   },
   "source": [
    "## Má účasť študentov na prednáškach súvis s ich finálnym hodnotením na predmete?"
   ]
  },
  {
   "cell_type": "markdown",
   "metadata": {
    "slideshow": {
     "slide_type": "fragment"
    }
   },
   "source": [
    "Kauzalita - potrebovali by sme kontrolovaný experiment"
   ]
  },
  {
   "cell_type": "markdown",
   "metadata": {
    "slideshow": {
     "slide_type": "fragment"
    }
   },
   "source": [
    "Súvis - dotazník na konci semestra (počet učastí na prednáškach, počet hodín samostatnej práce, ...)"
   ]
  },
  {
   "cell_type": "markdown",
   "metadata": {
    "slideshow": {
     "slide_type": "slide"
    }
   },
   "source": [
    "## Ako vyhodnotiť súvis?\n",
    "\n",
    "Korelácia (sila vzťahu)\n",
    "\n",
    "Lineárna regresia (predikčný model)\n",
    "\n",
    "Rozdiel medzi tými, čo chodili a tými, čo nechodili"
   ]
  },
  {
   "cell_type": "markdown",
   "metadata": {
    "slideshow": {
     "slide_type": "slide"
    }
   },
   "source": [
    "## Majme dve skupiny\n",
    "\n",
    "* Študenti, čo chodili na prednášky (boli na aspoň 50% prednášok)\n",
    "* Študenti, čo nechodili na prednášky (ostatní)"
   ]
  },
  {
   "cell_type": "code",
   "execution_count": 1,
   "metadata": {
    "slideshow": {
     "slide_type": "skip"
    }
   },
   "outputs": [],
   "source": [
    "%matplotlib inline\n",
    "\n",
    "import numpy as np\n",
    "import pandas as pd\n",
    "import scipy.stats as stats\n",
    "import matplotlib.pyplot as plt \n",
    "import seaborn as sns\n",
    "import statsmodels.api as sm\n",
    "import statsmodels.stats as sm_stats\n",
    "import statsmodels.stats.api as sms"
   ]
  },
  {
   "cell_type": "code",
   "execution_count": 2,
   "metadata": {
    "slideshow": {
     "slide_type": "skip"
    }
   },
   "outputs": [],
   "source": [
    "plt.rcParams[\"figure.figsize\"] = (10,7)"
   ]
  },
  {
   "cell_type": "markdown",
   "metadata": {
    "slideshow": {
     "slide_type": "slide"
    }
   },
   "source": [
    "## Vygenerujme si nejaké dáta"
   ]
  },
  {
   "cell_type": "code",
   "execution_count": 3,
   "metadata": {
    "slideshow": {
     "slide_type": "fragment"
    }
   },
   "outputs": [],
   "source": [
    "np.random.seed(123)\n",
    "\n",
    "sample_size = 10\n",
    "m1 = 80\n",
    "m2 = 78\n",
    "s = 5\n",
    "\n",
    "attended = stats.norm(m1, s)\n",
    "not_attended = stats.norm(m2, s)\n",
    "\n",
    "a_sample = attended.rvs(sample_size)\n",
    "na_sample = not_attended.rvs(sample_size)"
   ]
  },
  {
   "cell_type": "markdown",
   "metadata": {
    "slideshow": {
     "slide_type": "slide"
    }
   },
   "source": [
    "## Teoreticky by sme mali pozorovať rozdiel"
   ]
  },
  {
   "cell_type": "code",
   "execution_count": 4,
   "metadata": {
    "slideshow": {
     "slide_type": "fragment"
    }
   },
   "outputs": [
    {
     "data": {
      "text/plain": [
       "[<matplotlib.lines.Line2D at 0x1b2bdd28e48>]"
      ]
     },
     "execution_count": 4,
     "metadata": {},
     "output_type": "execute_result"
    },
    {
     "data": {
      "image/png": "[encoded data removed]",
      "text/plain": [
       "<Figure size 720x504 with 1 Axes>"
      ]
     },
     "metadata": {},
     "output_type": "display_data"
    }
   ],
   "source": [
    "x = np.linspace(60, 100, 100)\n",
    "plt.plot(x, attended.pdf(x))\n",
    "plt.plot(x, not_attended.pdf(x))"
   ]
  },
  {
   "cell_type": "markdown",
   "metadata": {
    "slideshow": {
     "slide_type": "slide"
    }
   },
   "source": [
    "## Ako vyzerajú naše \"odmerané\" dáta?"
   ]
  },
  {
   "cell_type": "code",
   "execution_count": 5,
   "metadata": {
    "slideshow": {
     "slide_type": "fragment"
    }
   },
   "outputs": [
    {
     "data": {
      "text/plain": [
       "array([74.57184698, 84.98672723, 81.41489249, 72.46852643, 77.10699874,\n",
       "       88.25718269, 67.86660378, 77.85543686, 86.32968129, 75.66629799])"
      ]
     },
     "execution_count": 5,
     "metadata": {},
     "output_type": "execute_result"
    }
   ],
   "source": [
    "a_sample"
   ]
  },
  {
   "cell_type": "code",
   "execution_count": 6,
   "metadata": {
    "slideshow": {
     "slide_type": "fragment"
    }
   },
   "outputs": [
    {
     "data": {
      "text/plain": [
       "array([74.60556924, 77.52645516, 85.45694813, 74.80549002, 75.7800902 ,\n",
       "       75.82824362, 89.02965041, 88.93393044, 83.02026949, 79.930932  ])"
      ]
     },
     "execution_count": 6,
     "metadata": {},
     "output_type": "execute_result"
    }
   ],
   "source": [
    "na_sample"
   ]
  },
  {
   "cell_type": "code",
   "execution_count": 7,
   "metadata": {
    "slideshow": {
     "slide_type": "slide"
    }
   },
   "outputs": [
    {
     "data": {
      "text/plain": [
       "78.65241944836836"
      ]
     },
     "execution_count": 7,
     "metadata": {},
     "output_type": "execute_result"
    }
   ],
   "source": [
    "a_sample.mean()"
   ]
  },
  {
   "cell_type": "code",
   "execution_count": 8,
   "metadata": {
    "slideshow": {
     "slide_type": "fragment"
    }
   },
   "outputs": [
    {
     "data": {
      "text/plain": [
       "80.49175787118455"
      ]
     },
     "execution_count": 8,
     "metadata": {},
     "output_type": "execute_result"
    }
   ],
   "source": [
    "na_sample.mean()"
   ]
  },
  {
   "cell_type": "markdown",
   "metadata": {
    "slideshow": {
     "slide_type": "fragment"
    }
   },
   "source": [
    "Študenti, čo *nechodili* na prednášky, majú v priemere vyššie finálne hodnotenie."
   ]
  },
  {
   "cell_type": "markdown",
   "metadata": {
    "slideshow": {
     "slide_type": "fragment"
    }
   },
   "source": [
    "###  Môžem teda prehlásiť, že nechodenie na prednášky zlepšuje finálne hodnotenie na predmete?"
   ]
  },
  {
   "cell_type": "code",
   "execution_count": 9,
   "metadata": {
    "slideshow": {
     "slide_type": "slide"
    }
   },
   "outputs": [
    {
     "data": {
      "text/plain": [
       "<matplotlib.axes._subplots.AxesSubplot at 0x1b2c20e74e0>"
      ]
     },
     "execution_count": 9,
     "metadata": {},
     "output_type": "execute_result"
    },
    {
     "data": {
      "image/png": "[encoded data removed]",
      "text/plain": [
       "<Figure size 720x504 with 1 Axes>"
      ]
     },
     "metadata": {},
     "output_type": "display_data"
    }
   ],
   "source": [
    "df = pd.DataFrame({'attended': np.repeat([True, False], 10), 'score': np.concatenate((a_sample, na_sample))})\n",
    "sns.boxplot('attended', 'score', data=df)"
   ]
  },
  {
   "cell_type": "markdown",
   "metadata": {
    "slideshow": {
     "slide_type": "slide"
    }
   },
   "source": [
    "## Základný problém je, že nemeriame populácie, ale len ich vzorky\n",
    "\n",
    "Pracujeme teda len s odhadmi. **Ako si nimi môžeme byť istí?**\n",
    "\n",
    "<img src=\"img/samples.png\" alt=\"Populácia vs. vzorka\" style=\"width: 600px; margin-left: auto; margin-right: auto;\"/>"
   ]
  },
  {
   "cell_type": "markdown",
   "metadata": {
    "slideshow": {
     "slide_type": "notes"
    }
   },
   "source": [
    "Nevieme skutočnú hodnotu priemeru, vieme len jej *odhad*. Podobne aj pri smerodajnej odchýlke."
   ]
  },
  {
   "cell_type": "markdown",
   "metadata": {
    "slideshow": {
     "slide_type": "slide"
    }
   },
   "source": [
    "#### Štatistika nám ponúka nástroje, ako zistiť, či sú v dvoch štatistických súboroch odlišnosti"
   ]
  },
  {
   "cell_type": "markdown",
   "metadata": {
    "slideshow": {
     "slide_type": "fragment"
    }
   },
   "source": [
    "* Je tam vôbec nejaký rozdiel? *Nejaký asi bude*"
   ]
  },
  {
   "cell_type": "markdown",
   "metadata": {
    "slideshow": {
     "slide_type": "fragment"
    }
   },
   "source": [
    "* Je ten rozdiel malý alebo veľký? *Tu nám štatistika veľmi nepomôže*"
   ]
  },
  {
   "cell_type": "markdown",
   "metadata": {
    "slideshow": {
     "slide_type": "fragment"
    }
   },
   "source": [
    "* Má nameraný rozdiel nejakú praktickú hodnotu? *Ani na toto nám štatistika nedá odpoveď*"
   ]
  },
  {
   "cell_type": "markdown",
   "metadata": {
    "slideshow": {
     "slide_type": "fragment"
    }
   },
   "source": [
    "* Je nameraný rozdiel skutočný, alebo len kvôli náhode? **Tu nám štatistika vie pomôcť!**"
   ]
  },
  {
   "cell_type": "markdown",
   "metadata": {
    "slideshow": {
     "slide_type": "slide"
    }
   },
   "source": [
    "## Ako teda overiť, či je rozdiel medzi skupinami skutočný, a nie daný náhodou?\n",
    "\n",
    "Štatistické testovanie hypotéz"
   ]
  },
  {
   "cell_type": "markdown",
   "metadata": {
    "slideshow": {
     "slide_type": "slide"
    }
   },
   "source": [
    "### Pri testovaní hypotéz uvažujeme pravdepodobnosť, že daný výsledok sme mohli dosiahnuť, ak by experimentálna procedúra nemala žiadny efekt"
   ]
  },
  {
   "cell_type": "markdown",
   "metadata": {
    "slideshow": {
     "slide_type": "fragment"
    }
   },
   "source": [
    "Predpoklad nulového efektu (rozdielu) = **nulová hypotéza**\n",
    "\n",
    "*Priemerné finálne hodnotenie študentov, čo chodili na prednášky je rovnaké ako tých, čo na prednášky nechodili.*"
   ]
  },
  {
   "cell_type": "markdown",
   "metadata": {
    "slideshow": {
     "slide_type": "fragment"
    }
   },
   "source": [
    "Alternatívna hypotéza (ak by neplatila nulová)\n",
    "\n",
    "*Priemerné finálne hodnotenie študentov, čo chodili na prednášky, je iné/väčšie/menšie ako tých, čo na prednášky nechodili.*"
   ]
  },
  {
   "cell_type": "markdown",
   "metadata": {
    "slideshow": {
     "slide_type": "slide"
    }
   },
   "source": [
    "<img src=\"img/errors.png\" alt=\"Chyba 1 a 2. rádu\" style=\"width: 1000px; margin-left: auto; margin-right: auto;\"/>"
   ]
  },
  {
   "cell_type": "markdown",
   "metadata": {
    "slideshow": {
     "slide_type": "slide"
    }
   },
   "source": [
    "## Chyba 1. a 2. rádu\n",
    "\n",
    "<img src=\"img/pregnant.jpg\" alt=\"Chyba 1. a 2. rádu\" style=\"width: 800px; margin-left: auto; margin-right: auto;\"/>"
   ]
  },
  {
   "cell_type": "markdown",
   "metadata": {
    "slideshow": {
     "slide_type": "slide"
    }
   },
   "source": [
    "## Postup pri štatistickom testovaní\n",
    "\n",
    "1. Sformulujem nulovú a alternatívnu hypotézu\n",
    "2. Overím štatistické predpoklady distribúcií, z ktorých pochádzajú testované vzorky\n",
    "3. Na základe splnenia/nesplnenia predpokladov vyberiem vhodnú testovaciu štatistiku $T$\n",
    "4. Vyberiem akceptovateľnú pravedpodobnosť chyby 1. rádu $\\alpha$ (najčastejšie 0.05)"
   ]
  },
  {
   "cell_type": "markdown",
   "metadata": {
    "slideshow": {
     "slide_type": "slide"
    }
   },
   "source": [
    "## Postup pri štatistickom testovaní\n",
    "\n",
    "5. Na základe distribúcie testovacej štatistiky $T$ a hodnoty $\\alpha$ určím *kritickú oblasť*, resp. *kritickú hodnotu*\n",
    "6. Na základe pozorovaní určím hodnotu testovacej štatistiky $t_{obs}$\n",
    "7. Ak $t_{obs}$ padne do kritickej oblasti, resp. ak plocha ohraničená $t_{obs}$ (tzv. $p$-hodnota) je menšia ako plocha kritickej oblasti ($\\alpha$), zamietam nulovú hypotézu. V opačnom prípade ju nemôžem zamietnuť."
   ]
  },
  {
   "cell_type": "markdown",
   "metadata": {
    "slideshow": {
     "slide_type": "slide"
    }
   },
   "source": [
    "<img src=\"img/p-value.png\" alt=\"P-hodnota a kritická oblasť\" style=\"width: 1000px; margin-left: auto; margin-right: auto;\"/>\n",
    "\n",
    "Zdroj: https://stats.stackexchange.com/questions/124178/why-do-we-compare-p-value-to-significance-level-in-hypothesis-testing-of-mean"
   ]
  },
  {
   "cell_type": "markdown",
   "metadata": {
    "slideshow": {
     "slide_type": "slide"
    }
   },
   "source": [
    "## One-tailed vs. two-tailed test\n",
    "\n",
    "https://stats.idre.ucla.edu/other/mult-pkg/faq/general/faq-what-are-the-differences-between-one-tailed-and-two-tailed-tests/\n",
    "\n",
    "<img src=\"img/one-two-tailed.png\" alt=\"One-tailed vs. two-tailed test\" style=\"width: 1000px; margin-left: auto; margin-right: auto;\"/>"
   ]
  },
  {
   "cell_type": "markdown",
   "metadata": {
    "slideshow": {
     "slide_type": "slide"
    }
   },
   "source": [
    "## Už si len potrebujeme vybrať vhodný štatistický test!\n",
    "\n",
    "<img src=\"img/tests.png\" alt=\"Prehľad štatistických testov\" style=\"width: 700px; margin-left: auto; margin-right: auto; float:left\"/>\n",
    "<img src=\"img/spitting-face.png\" alt=\"Pľujúci meme\" style=\"width: 400px; margin-left: auto; margin-right: auto;z-index:100\"/>"
   ]
  },
  {
   "cell_type": "markdown",
   "metadata": {
    "slideshow": {
     "slide_type": "slide"
    }
   },
   "source": [
    "## Ako to vyzerá v našom prípade?\n",
    "\n",
    "<img src=\"img/tests-highlighted.png\" alt=\"Prehľad štatistických testov\" style=\"width: 800px; margin-left: auto; margin-right: auto\"/>"
   ]
  },
  {
   "cell_type": "markdown",
   "metadata": {
    "slideshow": {
     "slide_type": "slide"
    }
   },
   "source": [
    "## Studentov t-test\n",
    "\n",
    "t-štatistika bola predstavená v roku 1908 Williamom Sealy Gossetom v čase, keď pracoval ako chemik v pivovare Guinness.\n",
    "\n",
    "<img src=\"img/William_Sealy_Gosset.jpg\" alt=\"Autor Studentovho t-testu\" style=\"width: 300px; margin-left: auto; margin-right: auto; float:left\"/>\n",
    "<img src=\"img/guinness.jpg\" alt=\"Guiness\" style=\"width: 400px; margin-left: auto; margin-right: auto\"/>"
   ]
  },
  {
   "cell_type": "markdown",
   "metadata": {
    "slideshow": {
     "slide_type": "slide"
    }
   },
   "source": [
    "t-test je založený na **t-distribúcii**.\n",
    "\n",
    "t-distribúcia je podobná ako normálna distribúcia, ale má viac hmoty na chvostom. So zväčšujúcim počtom pozorovaní sa približuje normálnej distribúcii.\n",
    "\n",
    "Výpočet t-štatitiky (pre dve nezávislé vzorky):\n",
    "\n",
    "$t = \\frac{\\overline{X_1} - \\overline{X_2}}{s_p \\sqrt{\\frac{1}{n_1} - \\frac{1}{n_2}}}$, $s_p = \\sqrt{\\frac{(n_1 - 1) s^2_{X_1} + (n_2 - 1) s^2_{X_2}}{n_1 + n_2  - 2}}$\n",
    "\n",
    "t-test pre dve párové vzorky porovnáva, či je rozdiel dvojíc pozorovaní rôzny od nuly."
   ]
  },
  {
   "cell_type": "markdown",
   "metadata": {
    "slideshow": {
     "slide_type": "slide"
    }
   },
   "source": [
    "## Predpoklady t-testu\n",
    "\n",
    "Hodnoty v súboroch sú z normálneho rozdelenia\n",
    "\n",
    "Súbory pochádzajú z distribúcií s podobne veľkou varianciou (rozptylom hodnôt) - existuje korekcia t-testu pre distribúcie s rôznou varianciou (*Welchov t-test*).\n",
    "\n",
    "t-test je odolný voči miernym odchýlkam od týchto predpokladov."
   ]
  },
  {
   "cell_type": "markdown",
   "metadata": {
    "slideshow": {
     "slide_type": "slide"
    }
   },
   "source": [
    "## Testovanie predpokladu normálnosti\n",
    "\n",
    "1. Vizuálna kontrola pomocou histogramu alebo tzv. kvantil-kvantilového grafu (QQ grafu) - najmä pri veľkých vzorkách\n",
    "2. Testom normálnosti, napr. pomocou **Shapiro-Wilkovho** testu."
   ]
  },
  {
   "cell_type": "code",
   "execution_count": 10,
   "metadata": {
    "slideshow": {
     "slide_type": "slide"
    }
   },
   "outputs": [
    {
     "data": {
      "text/plain": [
       "<matplotlib.axes._subplots.AxesSubplot at 0x1b2c1f71668>"
      ]
     },
     "execution_count": 10,
     "metadata": {},
     "output_type": "execute_result"
    },
    {
     "data": {
      "image/png": "[encoded data removed]",
      "text/plain": [
       "<Figure size 720x504 with 1 Axes>"
      ]
     },
     "metadata": {},
     "output_type": "display_data"
    }
   ],
   "source": [
    "sns.distplot(a_sample, bins=5)"
   ]
  },
  {
   "cell_type": "code",
   "execution_count": 11,
   "metadata": {
    "slideshow": {
     "slide_type": "slide"
    }
   },
   "outputs": [
    {
     "data": {
      "text/plain": [
       "<matplotlib.axes._subplots.AxesSubplot at 0x1b2c1faabe0>"
      ]
     },
     "execution_count": 11,
     "metadata": {},
     "output_type": "execute_result"
    },
    {
     "data": {
      "image/png": "[encoded data removed]",
      "text/plain": [
       "<Figure size 720x504 with 1 Axes>"
      ]
     },
     "metadata": {},
     "output_type": "display_data"
    }
   ],
   "source": [
    "sns.distplot(na_sample, bins=5)"
   ]
  },
  {
   "cell_type": "markdown",
   "metadata": {
    "slideshow": {
     "slide_type": "slide"
    }
   },
   "source": [
    "QQ-plot je vizuálna metóda na určenie, či dve dátove sady pochádzajú z rovnakého rozdelenia. Najčastejšie sa porovnáva rozdelenie vzorky s teoretickým normálnym rozdelením. Bod na grafe zobrazuje hodnotu kvantilu v prvom a druhom porovnávanom datasete.\n",
    "\n",
    "Ak sa rozdelenie dvoch dátových sád zhoduje (resp. rozdelenie vzorky s teoretickým normálnym rozdelením), výsledkom budú body ležiace na priamke."
   ]
  },
  {
   "cell_type": "code",
   "execution_count": 12,
   "metadata": {
    "slideshow": {
     "slide_type": "skip"
    }
   },
   "outputs": [],
   "source": [
    "plt.rcParams[\"figure.figsize\"] = (6,4)"
   ]
  },
  {
   "cell_type": "code",
   "execution_count": 13,
   "metadata": {
    "slideshow": {
     "slide_type": "slide"
    }
   },
   "outputs": [
    {
     "data": {
      "image/png": "[encoded data removed]",
      "text/plain": [
       "<Figure size 432x288 with 1 Axes>"
      ]
     },
     "metadata": {},
     "output_type": "display_data"
    }
   ],
   "source": [
    "_ = sm.ProbPlot(a_sample, fit=True).qqplot(line='45')"
   ]
  },
  {
   "cell_type": "code",
   "execution_count": 14,
   "metadata": {
    "slideshow": {
     "slide_type": "fragment"
    }
   },
   "outputs": [
    {
     "data": {
      "image/png": "[encoded data removed]",
      "text/plain": [
       "<Figure size 432x288 with 1 Axes>"
      ]
     },
     "metadata": {},
     "output_type": "display_data"
    }
   ],
   "source": [
    "_ = sm.ProbPlot(na_sample, fit=True).qqplot(line='45')"
   ]
  },
  {
   "cell_type": "markdown",
   "metadata": {
    "slideshow": {
     "slide_type": "slide"
    }
   },
   "source": [
    "### Ako interpretovať QQ graf?\n",
    "\n",
    "<img src=\"img/qq-plot.png\" alt=\"Interpretácia QQ grafu\" style=\"margin-left: auto; margin-right: auto\"/>\n",
    "\n",
    "Zdroj: https://stats.stackexchange.com/questions/101274/how-to-interpret-a-qq-plot"
   ]
  },
  {
   "cell_type": "markdown",
   "metadata": {
    "slideshow": {
     "slide_type": "slide"
    }
   },
   "source": [
    "### Shapiro-Wilkov test normálnosti\n",
    "\n",
    "Shapiro-Wilkov test testuje nulovú hypotézu, že dáta pochádzajú z normálneho rozdelenia."
   ]
  },
  {
   "cell_type": "markdown",
   "metadata": {
    "slideshow": {
     "slide_type": "fragment"
    }
   },
   "source": [
    "Ak je $p < 0,05$, nulovú hypotézu zamietame a dáta pravdepodobne pochádzajú z iného ako normálneho rozdelenia. Ak je $p > 0,05$, nulovú hypotézu nezamietame, teda na základe dát nemôžeme prehlásiť, že by dáta pochádzali z iného, ako normálneho rozdelenia."
   ]
  },
  {
   "cell_type": "code",
   "execution_count": 15,
   "metadata": {
    "slideshow": {
     "slide_type": "slide"
    }
   },
   "outputs": [
    {
     "data": {
      "text/plain": [
       "(0.9674148559570312, 0.8658962845802307)"
      ]
     },
     "execution_count": 15,
     "metadata": {},
     "output_type": "execute_result"
    }
   ],
   "source": [
    "stats.shapiro(a_sample)"
   ]
  },
  {
   "cell_type": "code",
   "execution_count": 16,
   "metadata": {
    "slideshow": {
     "slide_type": "fragment"
    }
   },
   "outputs": [
    {
     "data": {
      "text/plain": [
       "(0.8645600080490112, 0.0863415077328682)"
      ]
     },
     "execution_count": 16,
     "metadata": {},
     "output_type": "execute_result"
    }
   ],
   "source": [
    "stats.shapiro(na_sample)"
   ]
  },
  {
   "cell_type": "markdown",
   "metadata": {
    "slideshow": {
     "slide_type": "slide"
    }
   },
   "source": [
    "## Test rovnakých variancií - Levenov test\n",
    "\n",
    "Levenov test testuje nulovú hypotézu, že všetky vstupné vzorky pochádzajú z rozdelení s rovnakými varianciami."
   ]
  },
  {
   "cell_type": "markdown",
   "metadata": {
    "slideshow": {
     "slide_type": "fragment"
    }
   },
   "source": [
    "Ak nulovú hypotézu nezamietame ($p > 0,05$), znamená to, že na základe dát nemôžeme prehlásiť, že by vzorky pochádzali z distribúcií s rôznymi varianciami."
   ]
  },
  {
   "cell_type": "code",
   "execution_count": 17,
   "metadata": {
    "slideshow": {
     "slide_type": "fragment"
    }
   },
   "outputs": [
    {
     "data": {
      "text/plain": [
       "LeveneResult(statistic=0.043281726362187446, pvalue=0.8375315228644566)"
      ]
     },
     "execution_count": 17,
     "metadata": {},
     "output_type": "execute_result"
    }
   ],
   "source": [
    "stats.levene(a_sample, na_sample)"
   ]
  },
  {
   "cell_type": "markdown",
   "metadata": {
    "slideshow": {
     "slide_type": "slide"
    }
   },
   "source": [
    "## Overili sme predpoklady t-testu - môžeme ho použiť\n",
    "\n",
    "*Ak by sa nám ich nepodarilo overiť, použili by sme neparametrickú verziu - **Mann-Whitneyho U test**.*"
   ]
  },
  {
   "cell_type": "code",
   "execution_count": 18,
   "metadata": {
    "slideshow": {
     "slide_type": "fragment"
    }
   },
   "outputs": [
    {
     "data": {
      "text/plain": [
       "Ttest_indResult(statistic=-0.6704597231719521, pvalue=0.511076194122041)"
      ]
     },
     "execution_count": 18,
     "metadata": {},
     "output_type": "execute_result"
    }
   ],
   "source": [
    "stats.ttest_ind(a_sample, na_sample)"
   ]
  },
  {
   "cell_type": "markdown",
   "metadata": {
    "slideshow": {
     "slide_type": "fragment"
    }
   },
   "source": [
    "$p > 0.05$ => na základe dát **nemôžeme** zamietnuť nulovú hypotézu o tom, že priemery dvoch distribúcií sú rovnaké.\n",
    "\n",
    "**Nedokázali sme tým však, že priemery sú rovnaké.**"
   ]
  },
  {
   "cell_type": "markdown",
   "metadata": {
    "slideshow": {
     "slide_type": "slide"
    }
   },
   "source": [
    "## Ako je to možné?\n",
    "\n",
    "Dáta sme generovali z rozdelení s rôznym priemerom."
   ]
  },
  {
   "cell_type": "markdown",
   "metadata": {
    "slideshow": {
     "slide_type": "fragment"
    }
   },
   "source": [
    "**Chyba 2. rádu** - použili sme test s nedostatočnou silou."
   ]
  },
  {
   "cell_type": "markdown",
   "metadata": {
    "slideshow": {
     "slide_type": "fragment"
    }
   },
   "source": [
    "<img src=\"img/underpowered.jpg\" alt=\"Nedostatočná sila testu\" style=\"margin-left: auto; margin-right: auto\"/>"
   ]
  },
  {
   "cell_type": "markdown",
   "metadata": {
    "slideshow": {
     "slide_type": "slide"
    }
   },
   "source": [
    "## Štatistická sila = $1 - \\beta$\n",
    "\n",
    "Pravdepodobnosť, že nájdeme signifikantný rozdiel, ak exituje (zamietame $H_0$, keď je nepravdivá)."
   ]
  },
  {
   "cell_type": "markdown",
   "metadata": {
    "slideshow": {
     "slide_type": "fragment"
    }
   },
   "source": [
    "Pri nízkej sile testu nevieme identifikovať menšie efekty (rozdiely)."
   ]
  },
  {
   "cell_type": "markdown",
   "metadata": {
    "slideshow": {
     "slide_type": "fragment"
    }
   },
   "source": [
    "Vieme zvýšiť zväčšením počtu účastníkov (pozorovaní)."
   ]
  },
  {
   "cell_type": "markdown",
   "metadata": {
    "slideshow": {
     "slide_type": "slide"
    }
   },
   "source": [
    "## Silu testu, resp. potrebný počet účastníkov/pozorovaní vieme dopredu vypočítať!"
   ]
  },
  {
   "cell_type": "markdown",
   "metadata": {
    "slideshow": {
     "slide_type": "fragment"
    }
   },
   "source": [
    "Potrebujeme na to odhadnúť *veľkosť efektu*."
   ]
  },
  {
   "cell_type": "markdown",
   "metadata": {
    "slideshow": {
     "slide_type": "fragment"
    }
   },
   "source": [
    "Viacero spôsobov, napr. **Cohenovo d**.\n",
    "\n",
    "$d = \\frac{\\overline{x_1} - \\overline{x_2}}{s}$, $s = \\sqrt{\\frac{(n_1 - 1) s^2_{X_1} + (n_2 - 1) s^2_{X_2}}{n_1 + n_2  - 2}}$"
   ]
  },
  {
   "cell_type": "markdown",
   "metadata": {
    "slideshow": {
     "slide_type": "fragment"
    }
   },
   "source": [
    "malý efekt = 0,2, stredný efekt = 0,5, veľký efekt = 0,8"
   ]
  },
  {
   "cell_type": "markdown",
   "metadata": {
    "slideshow": {
     "slide_type": "slide"
    }
   },
   "source": [
    "## V našom príklade rozdiel je, ale neboli sme schopní ho odmerať\n",
    "\n",
    "Mali sme len 10 pozorovaní"
   ]
  },
  {
   "cell_type": "code",
   "execution_count": 19,
   "metadata": {
    "slideshow": {
     "slide_type": "fragment"
    }
   },
   "outputs": [],
   "source": [
    "def cohen_d(x1, x2):\n",
    "    nx1 = len(x1)\n",
    "    nx2 = len(x2)\n",
    "    s = np.sqrt(((nx1-1) * np.std(x1, ddof=1)**2 + (nx2-1) * np.std(x2, ddof=1)**2) / (nx1 + nx2 - 2))\n",
    "    return (np.abs(np.mean(x1) - np.mean(x2))) / s"
   ]
  },
  {
   "cell_type": "code",
   "execution_count": 20,
   "metadata": {
    "slideshow": {
     "slide_type": "fragment"
    }
   },
   "outputs": [
    {
     "data": {
      "text/plain": [
       "0.29983870343763525"
      ]
     },
     "execution_count": 20,
     "metadata": {},
     "output_type": "execute_result"
    }
   ],
   "source": [
    "c_d = cohen_d(a_sample, na_sample)\n",
    "c_d"
   ]
  },
  {
   "cell_type": "code",
   "execution_count": 21,
   "metadata": {
    "slideshow": {
     "slide_type": "fragment"
    }
   },
   "outputs": [
    {
     "data": {
      "text/plain": [
       "0.0973725922436366"
      ]
     },
     "execution_count": 21,
     "metadata": {},
     "output_type": "execute_result"
    }
   ],
   "source": [
    "sm_stats.power.tt_ind_solve_power(c_d, len(a_sample), 0.05, None, 1)"
   ]
  },
  {
   "cell_type": "markdown",
   "metadata": {
    "slideshow": {
     "slide_type": "slide"
    }
   },
   "source": [
    "## V literatúre sa vo všeobecnosti považuje za akceptovateľnú sila 0,8"
   ]
  },
  {
   "cell_type": "code",
   "execution_count": 22,
   "metadata": {
    "slideshow": {
     "slide_type": "fragment"
    }
   },
   "outputs": [
    {
     "data": {
      "text/plain": [
       "175.5723727806703"
      ]
     },
     "execution_count": 22,
     "metadata": {},
     "output_type": "execute_result"
    }
   ],
   "source": [
    "sm_stats.power.tt_ind_solve_power(c_d, None, 0.05, 0.8, 1)"
   ]
  },
  {
   "cell_type": "markdown",
   "metadata": {
    "slideshow": {
     "slide_type": "fragment"
    }
   },
   "source": [
    "V skutočnosti by nám stačilo menej pozorovaní (keďže sme dáta generovali, poznáme skutočné hodnoty priemerov a smerodajnej odchýlky):"
   ]
  },
  {
   "cell_type": "code",
   "execution_count": 23,
   "metadata": {
    "slideshow": {
     "slide_type": "fragment"
    }
   },
   "outputs": [
    {
     "data": {
      "text/plain": [
       "99.08032683981111"
      ]
     },
     "execution_count": 23,
     "metadata": {},
     "output_type": "execute_result"
    }
   ],
   "source": [
    "sm_stats.power.tt_ind_solve_power((m1-m2)/s, None, 0.05, 0.8, 1)"
   ]
  },
  {
   "cell_type": "markdown",
   "metadata": {
    "slideshow": {
     "slide_type": "slide"
    }
   },
   "source": [
    "## t-test znovu, tentokrát s väčším počtom pozorovaní (100 pre každú skupinu)"
   ]
  },
  {
   "cell_type": "code",
   "execution_count": 24,
   "metadata": {
    "slideshow": {
     "slide_type": "fragment"
    }
   },
   "outputs": [],
   "source": [
    "a_sample2 = attended.rvs(100)\n",
    "na_sample2 = not_attended.rvs(100)"
   ]
  },
  {
   "cell_type": "code",
   "execution_count": 25,
   "metadata": {
    "slideshow": {
     "slide_type": "fragment"
    }
   },
   "outputs": [
    {
     "data": {
      "text/plain": [
       "79.98243792881826"
      ]
     },
     "execution_count": 25,
     "metadata": {},
     "output_type": "execute_result"
    }
   ],
   "source": [
    "a_sample2.mean()"
   ]
  },
  {
   "cell_type": "code",
   "execution_count": 26,
   "metadata": {
    "slideshow": {
     "slide_type": "fragment"
    }
   },
   "outputs": [
    {
     "data": {
      "text/plain": [
       "78.08512573238116"
      ]
     },
     "execution_count": 26,
     "metadata": {},
     "output_type": "execute_result"
    }
   ],
   "source": [
    "na_sample2.mean()"
   ]
  },
  {
   "cell_type": "code",
   "execution_count": 27,
   "metadata": {
    "slideshow": {
     "slide_type": "skip"
    }
   },
   "outputs": [],
   "source": [
    "plt.rcParams[\"figure.figsize\"] = (10,7)"
   ]
  },
  {
   "cell_type": "code",
   "execution_count": 28,
   "metadata": {
    "slideshow": {
     "slide_type": "slide"
    }
   },
   "outputs": [
    {
     "data": {
      "text/plain": [
       "<matplotlib.axes._subplots.AxesSubplot at 0x1b2c2194f60>"
      ]
     },
     "execution_count": 28,
     "metadata": {},
     "output_type": "execute_result"
    },
    {
     "data": {
      "image/png": "[encoded data removed]",
      "text/plain": [
       "<Figure size 720x504 with 1 Axes>"
      ]
     },
     "metadata": {},
     "output_type": "display_data"
    }
   ],
   "source": [
    "df2 = pd.DataFrame({'attended': np.repeat([True, False], 100), 'score': np.concatenate((a_sample2, na_sample2))})\n",
    "sns.boxplot('attended', 'score', data=df)"
   ]
  },
  {
   "cell_type": "code",
   "execution_count": 29,
   "metadata": {
    "slideshow": {
     "slide_type": "fragment"
    }
   },
   "outputs": [
    {
     "data": {
      "text/plain": [
       "Ttest_indResult(statistic=2.632935293205359, pvalue=0.009133081657394739)"
      ]
     },
     "execution_count": 29,
     "metadata": {},
     "output_type": "execute_result"
    }
   ],
   "source": [
    "stats.ttest_ind(a_sample2, na_sample2)"
   ]
  },
  {
   "cell_type": "markdown",
   "metadata": {
    "slideshow": {
     "slide_type": "slide"
    }
   },
   "source": [
    "## Na základe t-testu zamietame nulovú hypotézu\n",
    "\n",
    "Ale odhady priemerov sú stále mimo skutočných hodnôt.\n",
    "\n",
    "Ako zistiť presnosť tohto odhadu, resp. aká je skutočná hodnota priemeru?"
   ]
  },
  {
   "cell_type": "markdown",
   "metadata": {
    "slideshow": {
     "slide_type": "fragment"
    }
   },
   "source": [
    "**Intervaly spoľahlivosti**"
   ]
  },
  {
   "cell_type": "markdown",
   "metadata": {
    "slideshow": {
     "slide_type": "slide"
    }
   },
   "source": [
    "## Intervaly spoľahlivosti\n",
    "\n",
    "Miera spoľahlivosti $C$ (napr. 95%) nám hovorí, v koľkých percentách zostavených intervalov spoľahlivosti by sa nachádzala skutočná odhadovaná hodnota populácie (napr. priemer), ak by som z populácie testoval nekonečne veľa vzoriek.\n",
    "\n",
    "Pre neznámu smerodajnú odchýlku používame hodnoty z t-distribúcie:\n",
    "\n",
    "$$ \\overline{x} \\pm t_{\\alpha}(n-1)\\frac{s}{\\sqrt{n}} $$\n",
    "\n",
    "$$ \\alpha = \\frac{1-C}{2} $$"
   ]
  },
  {
   "cell_type": "code",
   "execution_count": 30,
   "metadata": {
    "slideshow": {
     "slide_type": "slide"
    }
   },
   "outputs": [
    {
     "data": {
      "text/plain": [
       "(73.99122651163154, 83.31361238510519)"
      ]
     },
     "execution_count": 30,
     "metadata": {},
     "output_type": "execute_result"
    }
   ],
   "source": [
    "sms.DescrStatsW(a_sample).tconfint_mean()"
   ]
  },
  {
   "cell_type": "code",
   "execution_count": 31,
   "metadata": {
    "slideshow": {
     "slide_type": "fragment"
    }
   },
   "outputs": [
    {
     "data": {
      "text/plain": [
       "(76.39447730971264, 84.58903843265645)"
      ]
     },
     "execution_count": 31,
     "metadata": {},
     "output_type": "execute_result"
    }
   ],
   "source": [
    "sms.DescrStatsW(na_sample).tconfint_mean()"
   ]
  },
  {
   "cell_type": "code",
   "execution_count": 32,
   "metadata": {
    "slideshow": {
     "slide_type": "skip"
    }
   },
   "outputs": [],
   "source": [
    "plt.rcParams[\"figure.figsize\"] = (6,4)"
   ]
  },
  {
   "cell_type": "code",
   "execution_count": 33,
   "metadata": {
    "slideshow": {
     "slide_type": "fragment"
    }
   },
   "outputs": [
    {
     "data": {
      "text/plain": [
       "<matplotlib.axes._subplots.AxesSubplot at 0x1b2c2209f28>"
      ]
     },
     "execution_count": 33,
     "metadata": {},
     "output_type": "execute_result"
    },
    {
     "data": {
      "image/png": "[encoded data removed]",
      "text/plain": [
       "<Figure size 432x288 with 1 Axes>"
      ]
     },
     "metadata": {},
     "output_type": "display_data"
    }
   ],
   "source": [
    "sns.barplot(x='attended', y='score', data=df, capsize=0.1, errwidth=2, palette=sns.color_palette(\"Blues\"))"
   ]
  },
  {
   "cell_type": "code",
   "execution_count": 34,
   "metadata": {
    "slideshow": {
     "slide_type": "slide"
    }
   },
   "outputs": [
    {
     "data": {
      "text/plain": [
       "(78.8523324999322, 81.11254335770434)"
      ]
     },
     "execution_count": 34,
     "metadata": {},
     "output_type": "execute_result"
    }
   ],
   "source": [
    "sms.DescrStatsW(a_sample2).tconfint_mean()"
   ]
  },
  {
   "cell_type": "code",
   "execution_count": 35,
   "metadata": {
    "slideshow": {
     "slide_type": "fragment"
    }
   },
   "outputs": [
    {
     "data": {
      "text/plain": [
       "(77.20916499630897, 78.96108646845337)"
      ]
     },
     "execution_count": 35,
     "metadata": {},
     "output_type": "execute_result"
    }
   ],
   "source": [
    "sms.DescrStatsW(na_sample2).tconfint_mean()"
   ]
  },
  {
   "cell_type": "code",
   "execution_count": 36,
   "metadata": {
    "slideshow": {
     "slide_type": "fragment"
    }
   },
   "outputs": [
    {
     "data": {
      "text/plain": [
       "<matplotlib.axes._subplots.AxesSubplot at 0x1b2c2257d30>"
      ]
     },
     "execution_count": 36,
     "metadata": {},
     "output_type": "execute_result"
    },
    {
     "data": {
      "image/png": "[encoded data removed]",
      "text/plain": [
       "<Figure size 432x288 with 1 Axes>"
      ]
     },
     "metadata": {},
     "output_type": "display_data"
    }
   ],
   "source": [
    "sns.barplot(x='attended', y='score', data=df2, capsize=0.1, errwidth=2, palette=sns.color_palette(\"Blues\"))"
   ]
  },
  {
   "cell_type": "markdown",
   "metadata": {
    "slideshow": {
     "slide_type": "slide"
    }
   },
   "source": [
    "## V našom príklade sme mali dve skupiny - čo ak by sme ich mali viac?\n",
    "\n",
    "$\\alpha = 0.05$\n",
    "\n",
    "* 1 test: 5% pravdepodobnosť chyby\n",
    "* 2 testy: $1 – (1-0,05)^2 \\approx 9.75\\%$ pravd. chyby\n",
    "* 10 testov: $1 – (1-0,05)^{10} \\approx 40.1\\%$ pravd. chyby\n",
    "* 25 testov: $1 – (1-0,05)^{25} \\approx 72.3\\%$ pravd. chyby"
   ]
  },
  {
   "cell_type": "markdown",
   "metadata": {
    "slideshow": {
     "slide_type": "slide"
    }
   },
   "source": [
    "## S rastúcim počtom testovaných skupín rastie chyba 1. rádu\n",
    "\n",
    "<img src=\"img/type-one-error.png\" alt=\"Chyba 1. rádu\" style=\"margin-left: auto; margin-right: auto; float: left\"/>\n",
    "<img src=\"img/chosen-one.gif\" alt=\"You were the chosen one!\" style=\"margin-left: auto; margin-right: auto\"/>"
   ]
  },
  {
   "cell_type": "markdown",
   "metadata": {
    "slideshow": {
     "slide_type": "slide"
    }
   },
   "source": [
    "## Chyby 1. rádu môžeme kontrolovať\n",
    "\n",
    "**FWER (Familywise error rate)** = Pravdepodobnosť, že zamietneme aspoň jednu pravdivú $H_i$\n",
    "\n",
    "**Bonferroniho korekcia** \n",
    "\n",
    "$p_i \\leq \\alpha/m$, kde $m$ je počet hypotéz (párových testov)\n",
    "\n",
    "Majme 4 testovacie podmienky, $\\alpha = 0.05$ => 6 párových testov, $p_i \\leq 0.05/6 = 0.0083$\n",
    "\n",
    "*Alebo ešte lepšie - použiť test pre viacero skupín (napr. ANOVA) v kombinácii s párovými post-hoc testami.*"
   ]
  },
  {
   "cell_type": "markdown",
   "metadata": {
    "slideshow": {
     "slide_type": "slide"
    }
   },
   "source": [
    "## Reportovať p-hodnotu nestačí\n",
    "\n",
    "Hovorí len o tom, či existuje nejaký efekt\n",
    "\n",
    "Je závislá od veľkosti vzorky; pri dostatočne veľkých vzorkách takmer vždy zistíme signifikantný rozdiel\n",
    "\n",
    "Treba reportovať aj **veľkosť efektu**.\n",
    "\n",
    "http://www.ncbi.nlm.nih.gov/pmc/articles/PMC3444174"
   ]
  },
  {
   "cell_type": "code",
   "execution_count": 37,
   "metadata": {
    "slideshow": {
     "slide_type": "slide"
    }
   },
   "outputs": [],
   "source": [
    "attended2 = stats.norm(80, 5)\n",
    "not_attended2 = stats.norm(80, 5)\n",
    "\n",
    "a_sample3 = attended2.rvs(10000)\n",
    "na_sample3 = not_attended2.rvs(10000)"
   ]
  },
  {
   "cell_type": "code",
   "execution_count": 38,
   "metadata": {
    "slideshow": {
     "slide_type": "fragment"
    }
   },
   "outputs": [
    {
     "data": {
      "text/plain": [
       "80.04657634491458"
      ]
     },
     "execution_count": 38,
     "metadata": {},
     "output_type": "execute_result"
    }
   ],
   "source": [
    "a_sample3.mean()"
   ]
  },
  {
   "cell_type": "code",
   "execution_count": 39,
   "metadata": {
    "slideshow": {
     "slide_type": "fragment"
    }
   },
   "outputs": [
    {
     "data": {
      "text/plain": [
       "80.05178073009631"
      ]
     },
     "execution_count": 39,
     "metadata": {},
     "output_type": "execute_result"
    }
   ],
   "source": [
    "na_sample3.mean()"
   ]
  },
  {
   "cell_type": "code",
   "execution_count": 40,
   "metadata": {
    "slideshow": {
     "slide_type": "fragment"
    }
   },
   "outputs": [
    {
     "data": {
      "text/plain": [
       "Ttest_indResult(statistic=-0.07359983210225367, pvalue=0.9413295408425448)"
      ]
     },
     "execution_count": 40,
     "metadata": {},
     "output_type": "execute_result"
    }
   ],
   "source": [
    "stats.ttest_ind(a_sample3, na_sample3)"
   ]
  },
  {
   "cell_type": "markdown",
   "metadata": {
    "slideshow": {
     "slide_type": "slide"
    }
   },
   "source": [
    "## Už viete pomocou štatistiky testovať hypotézy\n",
    "\n",
    "<img src=\"img/peter-parker-happy-meme.jpg\" alt=\"I'm so happy\" style=\"margin-left: auto; margin-right: auto\"/>"
   ]
  },
  {
   "cell_type": "markdown",
   "metadata": {
    "slideshow": {
     "slide_type": "slide"
    }
   },
   "source": [
    "## Čo si odniesť z dnešnej prednášky\n",
    "\n",
    "* rozdiel v pozorovaniach (priemeroch) môže byť daný náhodou\n",
    "* štatistika nám poskytuje nástroje, ako rozhodnúť, či sú pozorované rozdiely významné (nie dané náhodou); nehovorí však, či je zistený rozdiel praktický (závisí vždy od konkrétneho problému)\n",
    "* je veľa testov - treba vedieť, ktorý kedy môžem použiť (väčšinou majú predpoklady, ktoré musia byť splnené)\n",
    "* ak nezamietam nulovú hypotézu, neznamená, že som ju dokázal - je dosť možné, že som len použil test s nedostatočnou silou (mal som málo pozorovaní) na to, aby som ju mohol zamietnuť\n",
    "* pozor na opakované testovania nad rovnakými dátami - rastie pravdepodobnosť chyby 1. rádu"
   ]
  },
  {
   "cell_type": "markdown",
   "metadata": {
    "slideshow": {
     "slide_type": "slide"
    }
   },
   "source": [
    "## Je to všetko?"
   ]
  },
  {
   "cell_type": "markdown",
   "metadata": {
    "slideshow": {
     "slide_type": "fragment"
    }
   },
   "source": [
    "*Zďaleka nie...* Ďalšie testy: ANOVA, ANOCOVA, MANOVA, Mixed-effects model\n",
    "\n",
    "Regresie (lineárna, logistická)"
   ]
  },
  {
   "cell_type": "markdown",
   "metadata": {
    "slideshow": {
     "slide_type": "fragment"
    }
   },
   "source": [
    "<img src=\"img/darth.jpg\" alt=\"If you only new the power of Bayesian statistics\" style=\"margin-left: auto; margin-right: auto\"/>"
   ]
  },
  {
   "cell_type": "markdown",
   "metadata": {
    "slideshow": {
     "slide_type": "slide"
    }
   },
   "source": [
    "## Zdroje\n",
    "\n",
    "Brian Caffo: Little Inference Book (https://leanpub.com/LittleInferenceBook)\n",
    "\n",
    "Andy Fields, Jeremy Miles & Zoe Field: Discovering Statistics Using R\n",
    "\n",
    "Izabela & Krzysztof Krejtz: Statistical Analysis with R"
   ]
  }
 ],
 "metadata": {
  "celltoolbar": "Slideshow",
  "kernelspec": {
   "display_name": "Python 3",
   "language": "python",
   "name": "python3"
  },
  "language_info": {
   "codemirror_mode": {
    "name": "ipython",
    "version": 3
   },
   "file_extension": ".py",
   "mimetype": "text/x-python",
   "name": "python",
   "nbconvert_exporter": "python",
   "pygments_lexer": "ipython3",
   "version": "3.6.4"
  }
 },
 "nbformat": 4,
 "nbformat_minor": 2
}
